{
 "cells": [
  {
   "cell_type": "code",
   "execution_count": 2,
   "id": "0e797d86-81bf-41ba-811f-3dd517d004e4",
   "metadata": {},
   "outputs": [],
   "source": [
    "### Biomedical"
   ]
  },
  {
   "cell_type": "code",
   "execution_count": null,
   "id": "bcf8ab26-812d-4b72-b378-01e78586b752",
   "metadata": {
    "scrolled": true
   },
   "outputs": [],
   "source": [
    "                ┌────────────────────┐\n",
    "                │   User Query       │\n",
    "                └────────┬───────────┘\n",
    "                         │\n",
    "                         ▼\n",
    "                ┌────────────────────┐\n",
    "                │   Embed Query      │ ◄─ Using dense embedding model (e.g., SBERT, OpenAI)\n",
    "                └────────┬───────────┘\n",
    "                         │\n",
    "                         ▼\n",
    "                ┌────────────────────┐\n",
    "                │ Vector Search (kNN)│ ◄─ In vector store (e.g., FAISS, Pinecone)\n",
    "                └────────┬───────────┘\n",
    "                         │\n",
    "                         ▼\n",
    "                ┌────────────────────┐\n",
    "                │ Retrieve Top-k Docs│\n",
    "                └────────┬───────────┘\n",
    "                         │\n",
    "                         ▼\n",
    "                ┌────────────────────┐\n",
    "                │  Format Context    │\n",
    "                └────────┬───────────┘\n",
    "                         │\n",
    "                         ▼\n",
    "                ┌────────────────────┐\n",
    "                │  Prompt LLM (RAG)  │ ◄─ Append query + context\n",
    "                └────────┬───────────┘\n",
    "                         │\n",
    "                         ▼\n",
    "                ┌────────────────────┐\n",
    "                │   Generated Answer │\n",
    "                └────────────────────┘\n"
   ]
  },
  {
   "cell_type": "code",
   "execution_count": 8,
   "id": "770e52a9-4152-4628-8c5e-ec384d56e630",
   "metadata": {},
   "outputs": [
    {
     "name": "stdout",
     "output_type": "stream",
     "text": [
      "Answer:\n",
      "According to the text, a BRCA1 mutation creates a therapeutic opportunity by impairing homologous recombination repair and leading to genomic instability. This vulnerability can be exploited with PARP inhibitors, such as Olaparib, which accumulate DNA damage in BRCA1-deficient cells, resulting in cell death.\n",
      "\n",
      "📚 Source Chunks Used:\n",
      "- BRCA1 is a tumor suppressor gene that plays a critical role in the repair of DNA double-strand breaks through homologous recombination repair. Mutatio...\n",
      "- The ATM gene is another DNA damage response gene that works upstream of BRCA1. Mutations in ATM can also sensitize tumors to DNA-damaging agents.\n",
      "\n",
      "Che...\n",
      "- PARP inhibitors, such as Olaparib, are targeted cancer therapies that exploit synthetic lethality. In BRCA1-deficient cells, inhibition of PARP leads ...\n",
      "- RAD51 is recruited by BRCA2 during homologous recombination repair and plays a key role in strand invasion and exchange. A disruption in BRCA2 impairs...\n"
     ]
    }
   ],
   "source": [
    "from langchain.embeddings import HuggingFaceEmbeddings\n",
    "from langchain.vectorstores import FAISS\n",
    "from langchain.llms import Ollama\n",
    "from langchain.chains import RetrievalQA\n",
    "from langchain.document_loaders import TextLoader\n",
    "from langchain.text_splitter import CharacterTextSplitter\n",
    "import os\n",
    "\n",
    "# 1. Load and split your documents\n",
    "loader = TextLoader(\"data/brca1_cancer_links.txt\")  # or use DirectoryLoader\n",
    "documents = loader.load()\n",
    "\n",
    "text_splitter = CharacterTextSplitter(chunk_size=500, chunk_overlap=50)\n",
    "chunks = text_splitter.split_documents(documents)\n",
    "\n",
    "# 2. Embed documents and create vector store\n",
    "embeddings = HuggingFaceEmbeddings(model_name=\"sentence-transformers/all-MiniLM-L6-v2\")\n",
    "vector_db = FAISS.from_documents(chunks, embeddings)\n",
    "\n",
    "# 3. Define the retriever\n",
    "retriever = vector_db.as_retriever(search_type=\"similarity\", k=4)\n",
    "\n",
    "# 4. Setup Ollama LLM\n",
    "llm = Ollama(model=\"llama3:instruct\", temperature=0)\n",
    "\n",
    "# 5. Create RAG chain \n",
    "rag_chain = RetrievalQA.from_chain_type(\n",
    "    llm=llm,\n",
    "    retriever=retriever,\n",
    "    return_source_documents=True\n",
    ")\n",
    "\n",
    "# 5. Ask a question\n",
    "query = \"How does BRCA1 mutation create a therapeutic opportunity for cancer treatment?\"\n",
    "result = rag_chain.invoke(query)\n",
    "\n",
    "# 6. Show result\n",
    "print(\"Answer:\")\n",
    "print(result[\"result\"])\n",
    "\n",
    "print(\"\\n📚 Source Chunks Used:\")\n",
    "for doc in result[\"source_documents\"]:\n",
    "    print(f\"- {doc.page_content[:150]}...\")  # truncate for readability\n"
   ]
  },
  {
   "cell_type": "code",
   "execution_count": null,
   "id": "42f1e6e1-4a23-40b6-9889-706f0bc267fa",
   "metadata": {},
   "outputs": [],
   "source": []
  }
 ],
 "metadata": {
  "kernelspec": {
   "display_name": "casstle",
   "language": "python",
   "name": "casstle_env"
  },
  "language_info": {
   "codemirror_mode": {
    "name": "ipython",
    "version": 3
   },
   "file_extension": ".py",
   "mimetype": "text/x-python",
   "name": "python",
   "nbconvert_exporter": "python",
   "pygments_lexer": "ipython3",
   "version": "3.13.2"
  }
 },
 "nbformat": 4,
 "nbformat_minor": 5
}
