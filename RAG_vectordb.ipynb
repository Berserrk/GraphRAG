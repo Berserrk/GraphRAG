{
 "cells": [
  {
   "cell_type": "markdown",
   "metadata": {},
   "source": [
    "### RAG stacks + ollama + Store in Vector Db"
   ]
  },
  {
   "cell_type": "code",
   "execution_count": 5,
   "metadata": {},
   "outputs": [
    {
     "ename": "ModuleNotFoundError",
     "evalue": "No module named 'langchain'",
     "output_type": "error",
     "traceback": [
      "\u001b[31m---------------------------------------------------------------------------\u001b[39m",
      "\u001b[31mModuleNotFoundError\u001b[39m                       Traceback (most recent call last)",
      "\u001b[36mCell\u001b[39m\u001b[36m \u001b[39m\u001b[32mIn[5]\u001b[39m\u001b[32m, line 1\u001b[39m\n\u001b[32m----> \u001b[39m\u001b[32m1\u001b[39m \u001b[38;5;28;01mfrom\u001b[39;00m\u001b[38;5;250m \u001b[39m\u001b[34;01mlangchain\u001b[39;00m\u001b[34;01m.\u001b[39;00m\u001b[34;01mtext_splitter\u001b[39;00m\u001b[38;5;250m \u001b[39m\u001b[38;5;28;01mimport\u001b[39;00m RecursiveCharacterTextSplitter\n\u001b[32m      2\u001b[39m \u001b[38;5;28;01mfrom\u001b[39;00m\u001b[38;5;250m \u001b[39m\u001b[34;01mlangchain\u001b[39;00m\u001b[34;01m.\u001b[39;00m\u001b[34;01mvectorstores\u001b[39;00m\u001b[38;5;250m \u001b[39m\u001b[38;5;28;01mimport\u001b[39;00m FAISS\n\u001b[32m      3\u001b[39m \u001b[38;5;28;01mfrom\u001b[39;00m\u001b[38;5;250m \u001b[39m\u001b[34;01mlangchain\u001b[39;00m\u001b[34;01m.\u001b[39;00m\u001b[34;01membeddings\u001b[39;00m\u001b[38;5;250m \u001b[39m\u001b[38;5;28;01mimport\u001b[39;00m HuggingFaceEmbeddings\n",
      "\u001b[31mModuleNotFoundError\u001b[39m: No module named 'langchain'"
     ]
    }
   ],
   "source": [
    "from langchain.text_splitter import RecursiveCharacterTextSplitter\n",
    "from langchain.vectorstores import FAISS\n",
    "from langchain.embeddings import HuggingFaceEmbeddings\n",
    "from langchain.llms import Ollama\n",
    "\n",
    "# Example document\n",
    "document_text = \"\"\"\n",
    "The Eiffel Tower was built in 1889 in Paris. It stands 324 meters tall and is one of the most visited monuments in the world.\n",
    "It was originally constructed as a temporary exhibit for the 1889 World's Fair.\n",
    "\"\"\"\n",
    "\n",
    "# Split into chunks\n",
    "splitter = RecursiveCharacterTextSplitter(chunk_size=100, chunk_overlap=20)\n",
    "chunks = splitter.split_text(document_text)\n",
    "# Create embeddings\n",
    "embeddings = HuggingFaceEmbeddings(model_name=\"sentence-transformers/all-MiniLM-L6-v2\")\n",
    "\n",
    "# Store in FAISS, both text chunks and embedding. \n",
    "vector_db = FAISS.from_texts(chunks, embedding=embeddings)\n",
    "\n",
    "# Query example\n",
    "query = \"Tell me where is the Eiffel tower?\"\n",
    "similar_docs = vector_db.similarity_search(query, k=2) # telling the FAISS vector via the query to return the top2 most similar documents. \n",
    "context_text = \"\\n\".join([doc.page_content for doc in similar_docs])\n",
    "print(\"similar_docs\", similar_docs)\n",
    "# Use LLaMA 3 via Ollama\n",
    "llm = Ollama(model=\"llama3.1\")\n",
    "\n",
    "final_prompt = f\"\"\"\n",
    "Answer the question using the context below. If the answer is not found, say \"I don't know.\"\n",
    "\n",
    "Context:\n",
    "{context_text}\n",
    "\n",
    "Question: {query}\n",
    "Answer:\n",
    "\"\"\"\n",
    "\n",
    "response = llm(final_prompt)\n",
    "print(response)"
   ]
  },
  {
   "cell_type": "code",
   "execution_count": 1,
   "metadata": {},
   "outputs": [
    {
     "ename": "NameError",
     "evalue": "name 'vector_db' is not defined",
     "output_type": "error",
     "traceback": [
      "\u001b[31m---------------------------------------------------------------------------\u001b[39m",
      "\u001b[31mNameError\u001b[39m                                 Traceback (most recent call last)",
      "\u001b[36mCell\u001b[39m\u001b[36m \u001b[39m\u001b[32mIn[1]\u001b[39m\u001b[32m, line 3\u001b[39m\n\u001b[32m      1\u001b[39m \u001b[38;5;66;03m# to inspect list in the stored chunks\u001b[39;00m\n\u001b[32m----> \u001b[39m\u001b[32m3\u001b[39m ids = \u001b[38;5;28mlist\u001b[39m(\u001b[43mvector_db\u001b[49m.docstore._dict.keys())\n\u001b[32m      5\u001b[39m \u001b[38;5;28mprint\u001b[39m(\u001b[33m\"\u001b[39m\u001b[33m---- Vector DB contents ----\u001b[39m\u001b[33m\"\u001b[39m)\n\u001b[32m      6\u001b[39m \u001b[38;5;28;01mfor\u001b[39;00m doc_id \u001b[38;5;129;01min\u001b[39;00m vector_db.docstore._dict.keys():\n",
      "\u001b[31mNameError\u001b[39m: name 'vector_db' is not defined"
     ]
    }
   ],
   "source": [
    "# to inspect list in the stored chunks\n",
    "\n",
    "ids = list(vector_db.docstore._dict.keys())\n",
    "\n",
    "print(\"---- Vector DB contents ----\")\n",
    "for doc_id in vector_db.docstore._dict.keys():\n",
    "    doc = vector_db.docstore._dict[doc_id]\n",
    "    print(f\"ID: {doc_id}\")\n",
    "    print(\"Chunk content:\", doc.page_content)\n",
    "    print(\"-\" * 40)\n",
    "    "
   ]
  },
  {
   "cell_type": "code",
   "execution_count": null,
   "metadata": {},
   "outputs": [
    {
     "data": {
      "text/plain": [
       "['65bdd9c9-fd75-4845-b3e4-fe23306d4d5e']"
      ]
     },
     "execution_count": 3,
     "metadata": {},
     "output_type": "execute_result"
    }
   ],
   "source": [
    "# add this new document to the vector db\n",
    "document_text = \"\"\"\n",
    "Japan is the capital of Japan. Beijing is the capital of China\n",
    "\"\"\"\n",
    "\n",
    "# Split into chunks\n",
    "splitter = RecursiveCharacterTextSplitter(chunk_size=100, chunk_overlap=20)\n",
    "chunks = splitter.split_text(document_text)\n",
    "\n",
    "# Store in FAISS, other way to add informations after the initial from_texts that we used \n",
    "vector_db.add_texts(chunks)\n"
   ]
  },
  {
   "cell_type": "code",
   "execution_count": 26,
   "metadata": {},
   "outputs": [
    {
     "data": {
      "text/plain": [
       "dict_items([('7e4c72be-11f5-4089-84ef-9badc2721ab8', Document(id='7e4c72be-11f5-4089-84ef-9badc2721ab8', metadata={}, page_content='The Eiffel Tower was built in 1889 in Paris. It stands 324 meters tall and is one of the most')), ('bbbc3edc-9feb-4c19-9c2f-8beccbd87f97', Document(id='bbbc3edc-9feb-4c19-9c2f-8beccbd87f97', metadata={}, page_content='is one of the most visited monuments in the world.')), ('3c3848d5-3b74-4ac3-bd47-6b052f0ba0a5', Document(id='3c3848d5-3b74-4ac3-bd47-6b052f0ba0a5', metadata={}, page_content=\"It was originally constructed as a temporary exhibit for the 1889 World's Fair.\")), ('e5a88bdf-b123-4ac6-96f8-34b3815fd5f8', Document(id='e5a88bdf-b123-4ac6-96f8-34b3815fd5f8', metadata={}, page_content='Japan is the capital of Japan. Beijing is the capital of China'))])"
      ]
     },
     "execution_count": 26,
     "metadata": {},
     "output_type": "execute_result"
    }
   ],
   "source": [
    "vector_db.docstore._dict.items()"
   ]
  },
  {
   "cell_type": "code",
   "execution_count": null,
   "metadata": {},
   "outputs": [
    {
     "name": "stdout",
     "output_type": "stream",
     "text": [
      "---- Vector DB contents ----\n",
      "ID: 7e4c72be-11f5-4089-84ef-9badc2721ab8\n",
      "Chunk content: The Eiffel Tower was built in 1889 in Paris. It stands 324 meters tall and is one of the most\n",
      "----------------------------------------\n",
      "ID: bbbc3edc-9feb-4c19-9c2f-8beccbd87f97\n",
      "Chunk content: is one of the most visited monuments in the world.\n",
      "----------------------------------------\n",
      "ID: 3c3848d5-3b74-4ac3-bd47-6b052f0ba0a5\n",
      "Chunk content: It was originally constructed as a temporary exhibit for the 1889 World's Fair.\n",
      "----------------------------------------\n",
      "ID: e5a88bdf-b123-4ac6-96f8-34b3815fd5f8\n",
      "Chunk content: Japan is the capital of Japan. Beijing is the capital of China\n",
      "----------------------------------------\n"
     ]
    }
   ],
   "source": [
    "# check again teh bector db\n",
    "ids = list(vector_db.docstore._dict.keys())\n",
    "\n",
    "print(\"---- Vector DB contents ----\")\n",
    "for doc_id in vector_db.docstore._dict.keys():\n",
    "    doc = vector_db.docstore._dict[doc_id]\n",
    "    print(f\"ID: {doc_id}\")\n",
    "    print(\"Chunk content:\", doc.page_content)\n",
    "    print(\"-\" * 40)"
   ]
  },
  {
   "cell_type": "code",
   "execution_count": 24,
   "metadata": {},
   "outputs": [
    {
     "name": "stdout",
     "output_type": "stream",
     "text": [
      "The capital of Japan is Tokyo.\n"
     ]
    }
   ],
   "source": [
    "# Query example\n",
    "query = \"What is the capital of Japan?\"\n",
    "similar_docs = vector_db.similarity_search(query, k=2)\n",
    "context_text = \"\\n\".join([doc.page_content for doc in similar_docs])\n",
    "\n",
    "# Use LLaMA 3 via Ollama\n",
    "llm = Ollama(model=\"llama3.1\")\n",
    "\n",
    "final_prompt = f\"\"\"\n",
    "Answer the question using the context below. If the answer is not found, say \"I don't know.\"\n",
    "\n",
    "Context:\n",
    "{context_text}\n",
    "\n",
    "Question: {query}\n",
    "Answer:\n",
    "\"\"\"\n",
    "\n",
    "response = llm(final_prompt)\n",
    "print(response)"
   ]
  },
  {
   "cell_type": "code",
   "execution_count": null,
   "metadata": {},
   "outputs": [],
   "source": [
    "# Save"
   ]
  }
 ],
 "metadata": {
  "kernelspec": {
   "display_name": "Python (berserk3)",
   "language": "python",
   "name": "berserk3"
  },
  "language_info": {
   "codemirror_mode": {
    "name": "ipython",
    "version": 3
   },
   "file_extension": ".py",
   "mimetype": "text/x-python",
   "name": "python",
   "nbconvert_exporter": "python",
   "pygments_lexer": "ipython3",
   "version": "3.13.2"
  }
 },
 "nbformat": 4,
 "nbformat_minor": 2
}
